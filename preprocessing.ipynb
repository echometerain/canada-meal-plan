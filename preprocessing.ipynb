{
 "cells": [
  {
   "cell_type": "code",
   "execution_count": null,
   "metadata": {},
   "outputs": [],
   "source": [
    "import pandas as pd\n",
    "import numpy as np"
   ]
  },
  {
   "cell_type": "code",
   "execution_count": null,
   "metadata": {},
   "outputs": [],
   "source": [
    "names = pd.read_csv(\"./csv/FOOD NAME.csv\")\n",
    "nu_am = pd.read_csv(\"./csv/NUTRIENT AMOUNT.csv\")\n",
    "nu_name = pd.read_csv(\"./csv/NUTRIENT NAME.csv\")\n",
    "yld_am = pd.read_csv(\"./csv/YIELD AMOUNT.csv\")\n",
    "yld_name = pd.read_csv(\"./csv/YIELD NAME.csv\")"
   ]
  }
 ],
 "metadata": {
  "language_info": {
   "name": "python"
  },
  "orig_nbformat": 4
 },
 "nbformat": 4,
 "nbformat_minor": 2
}
